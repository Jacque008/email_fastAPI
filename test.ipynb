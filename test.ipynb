{
 "cells": [
  {
   "cell_type": "code",
   "execution_count": 1,
   "metadata": {},
   "outputs": [],
   "source": [
    "import sys\n",
    "sys.path.append('/Users/jiechen/Apoex/Email/fastAPI')\n",
    "# from app.workflow.categorize_connect import CategoryConnect\n",
    "from app.services.utils import fetchFromDB\n",
    "from app.services.base_service import BaseService\n",
    "from app.workflow.preprocess import PreProcess\n",
    "import pandas as pd\n",
    "\n",
    "bs = BaseService()\n",
    "pp = PreProcess()\n",
    "# Check if any reliable matches were found during connection\n",
    "# id = 194949\n",
    "# email = fetchFromDB(bs.email_spec_query.format(EMAILID=id))\n",
    "# email = pd.read_json(f'data/test_data/email8.json')\n",
    "# # email.to_json(f'data/test_data/cate{id}.json', orient=\"records\", indent=4, force_ascii=False)\n",
    "# # email = pd.read_json(f'data/test_data/email8.json')\n",
    "# cc = CategoryConnect(df=email)\n",
    "# ca = cc.do_connect()\n",
    "# ca"
   ]
  },
  {
   "cell_type": "code",
   "execution_count": 2,
   "metadata": {},
   "outputs": [
    {
     "ename": "NameError",
     "evalue": "name 'ca' is not defined",
     "output_type": "error",
     "traceback": [
      "\u001b[31m---------------------------------------------------------------------------\u001b[39m",
      "\u001b[31mNameError\u001b[39m                                 Traceback (most recent call last)",
      "\u001b[36mCell\u001b[39m\u001b[36m \u001b[39m\u001b[32mIn[2]\u001b[39m\u001b[32m, line 3\u001b[39m\n\u001b[32m      1\u001b[39m \u001b[38;5;28;01mfrom\u001b[39;00m\u001b[38;5;250m \u001b[39m\u001b[34;01mapp\u001b[39;00m\u001b[34;01m.\u001b[39;00m\u001b[34;01mservices\u001b[39;00m\u001b[34;01m.\u001b[39;00m\u001b[34;01mclassifier\u001b[39;00m\u001b[38;5;250m \u001b[39m\u001b[38;5;28;01mimport\u001b[39;00m Classifier\n\u001b[32m      2\u001b[39m a = Classifier()\n\u001b[32m----> \u001b[39m\u001b[32m3\u001b[39m a.statistic(\u001b[43mca\u001b[49m)\n",
      "\u001b[31mNameError\u001b[39m: name 'ca' is not defined"
     ]
    }
   ],
   "source": [
    "from app.services.classifier import Classifier\n",
    "a = Classifier()\n",
    "a.statistic(ca)"
   ]
  },
  {
   "cell_type": "code",
   "execution_count": null,
   "metadata": {},
   "outputs": [],
   "source": [
    "from app.workflow.create_forwarding import create_forwarding_workflow\n",
    "from app.schemas.forwarding_schema import ForwardingIn\n",
    "id = 182881\n",
    "\n",
    "forwarding_request = ForwardingIn(\n",
    "    email_id=id,\n",
    "    # corrected_category=para['correctedCategory'].iloc[0],\n",
    "    # receiver=para['receiver'].iloc[0],\n",
    "    user_id=14\n",
    ")\n",
    "\n",
    "# pro.to_json(f\"{local_folder}/1.j  son\", orient=\"records\", indent=4, force_ascii=False)\n",
    "workflow = create_forwarding_workflow()\n",
    "workflow.do_single_forwarding(forwarding_request)"
   ]
  }
 ],
 "metadata": {
  "kernelspec": {
   "display_name": ".venv",
   "language": "python",
   "name": "python3"
  },
  "language_info": {
   "codemirror_mode": {
    "name": "ipython",
    "version": 3
   },
   "file_extension": ".py",
   "mimetype": "text/x-python",
   "name": "python",
   "nbconvert_exporter": "python",
   "pygments_lexer": "ipython3",
   "version": "3.13.7"
  }
 },
 "nbformat": 4,
 "nbformat_minor": 2
}
